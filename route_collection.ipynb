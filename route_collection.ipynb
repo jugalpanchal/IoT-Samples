{
  "nbformat": 4,
  "nbformat_minor": 0,
  "metadata": {
    "colab": {
      "provenance": [],
      "authorship_tag": "ABX9TyNf2RSPC63vgwfY6SmyM3tM",
      "include_colab_link": true
    },
    "kernelspec": {
      "name": "python3",
      "display_name": "Python 3"
    },
    "language_info": {
      "name": "python"
    }
  },
  "cells": [
    {
      "cell_type": "markdown",
      "metadata": {
        "id": "view-in-github",
        "colab_type": "text"
      },
      "source": [
        "<a href=\"https://colab.research.google.com/github/jugalpanchal/IoT-Samples/blob/master/route_collection.ipynb\" target=\"_parent\"><img src=\"https://colab.research.google.com/assets/colab-badge.svg\" alt=\"Open In Colab\"/></a>"
      ]
    },
    {
      "cell_type": "code",
      "execution_count": null,
      "metadata": {
        "id": "93Ew5uyN0PkS"
      },
      "outputs": [],
      "source": []
    },
    {
      "cell_type": "markdown",
      "source": [
        "Tuples, Lists, Sets, Dictionary"
      ],
      "metadata": {
        "id": "lt5pWoT00h5Q"
      }
    },
    {
      "cell_type": "code",
      "source": [
        "# Tuples is like the List but we cannot change its value. It's immutable.\n",
        "# len, index, count, max, min\n",
        "\n",
        "tuple1 = ('jugal', 1)\n",
        "print(tuple1)\n",
        "print(tuple1[0])\n",
        "print(tuple1[1])\n",
        "\n",
        "print(\"\")\n",
        "\n",
        "tuple2 = ('jugal', 1, 'panchal') # we can have as much items we want.\n",
        "print(tuple2)\n",
        "print(tuple2[0])\n",
        "print(tuple2[1])\n",
        "print(tuple2[2])\n",
        "\n",
        "# TypeError: 'tuple' object does not support item assignment\n",
        "#tuple2[1] = 3"
      ],
      "metadata": {
        "id": "04MKZdlA0jKz"
      },
      "execution_count": null,
      "outputs": []
    },
    {
      "cell_type": "code",
      "source": [
        "# Lists is mutable, sequential and contains items of any type.\n",
        "# len, append, remove, insert(i, v), pop, pop(back_pos), sort, count\n",
        "\n",
        "list1 = [1, 'jugal', '48188']\n",
        "print(list1)\n",
        "\n",
        "list1 = list1 + ['Cocklate', 'Cake']\n",
        "print(list1)\n",
        "\n",
        "list1_slice = list1[1:4] # exclusive\n",
        "print(list1_slice)\n",
        "\n",
        "heights = [[\"Noelle\", 61], [\"Ali\", 70], [\"Sam\", 67]]\n",
        "noelloe_heights = heights[0][1]\n",
        "print(noelloe_heights)\n",
        "\n",
        "\n",
        "unsorted_list = [4, 2, 1, 3]\n",
        "#unsorted_list.sort() # in-place sort\n",
        "print(unsorted_list)\n",
        "\n",
        "sorted_list =sorted(unsorted_list) # not in-place sort\n",
        "print(sorted_list)\n",
        "\n",
        "\n",
        "soups = ['minestrone', 'lentil', 'pho', 'laksa']\n",
        "soups[-1]   # 'laksa'\n",
        "soups[-3:]  # 'lentil', 'pho', 'laksa'\n",
        "soups[:-2]  # 'minestrone', 'lentil'"
      ],
      "metadata": {
        "id": "mYZJvnNa1crn"
      },
      "execution_count": null,
      "outputs": []
    },
    {
      "cell_type": "code",
      "source": [
        "# Sets: It cannot have duplicate items.\n",
        "set1 = {2, 5, 6, 6, 8, 9, 5, 8}\n",
        "set1"
      ],
      "metadata": {
        "id": "Eq0EJhX31czG"
      },
      "execution_count": null,
      "outputs": []
    },
    {
      "cell_type": "code",
      "source": [
        "#Dictionary: the key must be unique otherwise it would replace the value.\n",
        "\n",
        "# keys(), values(), items(), get(key), get(key, default), pop(key)\n",
        "\n",
        "dict1 = {'key1': 'value1', 'key2': 'value2'}\n",
        "print(dict1['key2'])"
      ],
      "metadata": {
        "id": "5j5knY6p1c2u"
      },
      "execution_count": null,
      "outputs": []
    },
    {
      "cell_type": "code",
      "source": [
        "# Immutable: int, float, long, complex, str, tuple, Boolean, array\n",
        "# Mutable: byte array, list, set, dict\n",
        "\n",
        "# Let's confirm\n",
        "\n",
        "number1 = 5\n",
        "print(id(number1))\n",
        "print(id(number1))\n",
        "\n",
        "number1 = number1 + 3 # creating a new number and assigning to the variable\n",
        "print(id(number1))\n",
        "\n",
        "print(\"\")\n",
        "\n",
        "list1 = [3, 6]\n",
        "print(id(list1))\n",
        "list1 = list1 + [4, 7]\n",
        "print(id(list1)) # because we have created new list and assiging to the variable.\n",
        "\n",
        "print(\"\")\n",
        "\n",
        "list1.append(3)\n",
        "print(id(list1)) # It is not changing now."
      ],
      "metadata": {
        "id": "OEMeIz_P1c5Y"
      },
      "execution_count": null,
      "outputs": []
    },
    {
      "cell_type": "code",
      "source": [],
      "metadata": {
        "id": "DA5JWcbK1c8_"
      },
      "execution_count": null,
      "outputs": []
    }
  ]
}